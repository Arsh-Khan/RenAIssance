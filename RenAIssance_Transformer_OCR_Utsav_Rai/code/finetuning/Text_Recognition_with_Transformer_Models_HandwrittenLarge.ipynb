{
 "cells": [
  {
   "cell_type": "code",
   "execution_count": 1,
   "id": "8f99dd35-22ea-4be8-b231-86d952935396",
   "metadata": {},
   "outputs": [
    {
     "name": "stdout",
     "output_type": "stream",
     "text": [
      "Thu Jul 11 14:13:44 2024       \n",
      "+---------------------------------------------------------------------------------------+\n",
      "| NVIDIA-SMI 535.171.04             Driver Version: 535.171.04   CUDA Version: 12.2     |\n",
      "|-----------------------------------------+----------------------+----------------------+\n",
      "| GPU  Name                 Persistence-M | Bus-Id        Disp.A | Volatile Uncorr. ECC |\n",
      "| Fan  Temp   Perf          Pwr:Usage/Cap |         Memory-Usage | GPU-Util  Compute M. |\n",
      "|                                         |                      |               MIG M. |\n",
      "|=========================================+======================+======================|\n",
      "|   0  Tesla T4                       Off | 00000000:00:07.0 Off |                    0 |\n",
      "| N/A   29C    P8               9W /  70W |      2MiB / 15360MiB |      0%      Default |\n",
      "|                                         |                      |                  N/A |\n",
      "+-----------------------------------------+----------------------+----------------------+\n",
      "|   1  Tesla T4                       Off | 00000000:00:08.0 Off |                    0 |\n",
      "| N/A   29C    P8               9W /  70W |      2MiB / 15360MiB |      0%      Default |\n",
      "|                                         |                      |                  N/A |\n",
      "+-----------------------------------------+----------------------+----------------------+\n",
      "                                                                                         \n",
      "+---------------------------------------------------------------------------------------+\n",
      "| Processes:                                                                            |\n",
      "|  GPU   GI   CI        PID   Type   Process name                            GPU Memory |\n",
      "|        ID   ID                                                             Usage      |\n",
      "|=======================================================================================|\n",
      "|  No running processes found                                                           |\n",
      "+---------------------------------------------------------------------------------------+\n"
     ]
    }
   ],
   "source": [
    "!nvidia-smi"
   ]
  },
  {
   "cell_type": "code",
   "execution_count": 7,
   "id": "7e955751",
   "metadata": {},
   "outputs": [
    {
     "name": "stderr",
     "output_type": "stream",
     "text": [
      "huggingface/tokenizers: The current process just got forked, after parallelism has already been used. Disabling parallelism to avoid deadlocks...\n",
      "To disable this warning, you can either:\n",
      "\t- Avoid using `tokenizers` before the fork if possible\n",
      "\t- Explicitly set the environment variable TOKENIZERS_PARALLELISM=(true | false)\n"
     ]
    },
    {
     "name": "stdout",
     "output_type": "stream",
     "text": [
      "Collecting wandb\n",
      "  Downloading wandb-0.17.1-py3-none-manylinux_2_5_x86_64.manylinux1_x86_64.manylinux_2_17_x86_64.manylinux2014_x86_64.whl.metadata (10 kB)\n",
      "Requirement already satisfied: click!=8.0.0,>=7.1 in /vol/bitbucket/ur23/g/lib/python3.10/site-packages (from wandb) (8.1.7)\n",
      "Collecting docker-pycreds>=0.4.0 (from wandb)\n",
      "  Downloading docker_pycreds-0.4.0-py2.py3-none-any.whl.metadata (1.8 kB)\n",
      "Collecting gitpython!=3.1.29,>=1.0.0 (from wandb)\n",
      "  Downloading GitPython-3.1.43-py3-none-any.whl.metadata (13 kB)\n",
      "Requirement already satisfied: platformdirs in /vol/bitbucket/ur23/g/lib/python3.10/site-packages (from wandb) (4.2.0)\n",
      "Collecting protobuf!=4.21.0,<6,>=3.19.0 (from wandb)\n",
      "  Downloading protobuf-5.27.1-cp38-abi3-manylinux2014_x86_64.whl.metadata (592 bytes)\n",
      "Requirement already satisfied: psutil>=5.0.0 in /vol/bitbucket/ur23/g/lib/python3.10/site-packages (from wandb) (5.9.8)\n",
      "Requirement already satisfied: pyyaml in /vol/bitbucket/ur23/g/lib/python3.10/site-packages (from wandb) (6.0.1)\n",
      "Requirement already satisfied: requests<3,>=2.0.0 in /vol/bitbucket/ur23/g/lib/python3.10/site-packages (from wandb) (2.31.0)\n",
      "Collecting sentry-sdk>=1.0.0 (from wandb)\n",
      "  Downloading sentry_sdk-2.5.1-py2.py3-none-any.whl.metadata (10 kB)\n",
      "Collecting setproctitle (from wandb)\n",
      "  Downloading setproctitle-1.3.3-cp310-cp310-manylinux_2_5_x86_64.manylinux1_x86_64.manylinux_2_17_x86_64.manylinux2014_x86_64.whl.metadata (9.9 kB)\n",
      "Requirement already satisfied: setuptools in /vol/bitbucket/ur23/g/lib/python3.10/site-packages (from wandb) (69.5.1)\n",
      "Requirement already satisfied: six>=1.4.0 in /vol/bitbucket/ur23/g/lib/python3.10/site-packages (from docker-pycreds>=0.4.0->wandb) (1.16.0)\n",
      "Collecting gitdb<5,>=4.0.1 (from gitpython!=3.1.29,>=1.0.0->wandb)\n",
      "  Downloading gitdb-4.0.11-py3-none-any.whl.metadata (1.2 kB)\n",
      "Requirement already satisfied: charset-normalizer<4,>=2 in /vol/bitbucket/ur23/g/lib/python3.10/site-packages (from requests<3,>=2.0.0->wandb) (3.3.2)\n",
      "Requirement already satisfied: idna<4,>=2.5 in /vol/bitbucket/ur23/g/lib/python3.10/site-packages (from requests<3,>=2.0.0->wandb) (3.6)\n",
      "Requirement already satisfied: urllib3<3,>=1.21.1 in /vol/bitbucket/ur23/g/lib/python3.10/site-packages (from requests<3,>=2.0.0->wandb) (2.2.1)\n",
      "Requirement already satisfied: certifi>=2017.4.17 in /vol/bitbucket/ur23/g/lib/python3.10/site-packages (from requests<3,>=2.0.0->wandb) (2024.2.2)\n",
      "Collecting smmap<6,>=3.0.1 (from gitdb<5,>=4.0.1->gitpython!=3.1.29,>=1.0.0->wandb)\n",
      "  Downloading smmap-5.0.1-py3-none-any.whl.metadata (4.3 kB)\n",
      "Downloading wandb-0.17.1-py3-none-manylinux_2_5_x86_64.manylinux1_x86_64.manylinux_2_17_x86_64.manylinux2014_x86_64.whl (6.8 MB)\n",
      "\u001b[2K   \u001b[90m━━━━━━━━━━━━━━━━━━━━━━━━━━━━━━━━━━━━━━━━\u001b[0m \u001b[32m6.8/6.8 MB\u001b[0m \u001b[31m38.8 MB/s\u001b[0m eta \u001b[36m0:00:00\u001b[0m00:01\u001b[0m00:01\u001b[0m\n",
      "\u001b[?25hDownloading docker_pycreds-0.4.0-py2.py3-none-any.whl (9.0 kB)\n",
      "Downloading GitPython-3.1.43-py3-none-any.whl (207 kB)\n",
      "\u001b[2K   \u001b[90m━━━━━━━━━━━━━━━━━━━━━━━━━━━━━━━━━━━━━━━━\u001b[0m \u001b[32m207.3/207.3 kB\u001b[0m \u001b[31m8.8 MB/s\u001b[0m eta \u001b[36m0:00:00\u001b[0m\n",
      "\u001b[?25hDownloading protobuf-5.27.1-cp38-abi3-manylinux2014_x86_64.whl (309 kB)\n",
      "\u001b[2K   \u001b[90m━━━━━━━━━━━━━━━━━━━━━━━━━━━━━━━━━━━━━━━━\u001b[0m \u001b[32m309.2/309.2 kB\u001b[0m \u001b[31m9.3 MB/s\u001b[0m eta \u001b[36m0:00:00\u001b[0m\n",
      "\u001b[?25hDownloading sentry_sdk-2.5.1-py2.py3-none-any.whl (289 kB)\n",
      "\u001b[2K   \u001b[90m━━━━━━━━━━━━━━━━━━━━━━━━━━━━━━━━━━━━━━━━\u001b[0m \u001b[32m289.6/289.6 kB\u001b[0m \u001b[31m11.7 MB/s\u001b[0m eta \u001b[36m0:00:00\u001b[0m\n",
      "\u001b[?25hDownloading setproctitle-1.3.3-cp310-cp310-manylinux_2_5_x86_64.manylinux1_x86_64.manylinux_2_17_x86_64.manylinux2014_x86_64.whl (30 kB)\n",
      "Downloading gitdb-4.0.11-py3-none-any.whl (62 kB)\n",
      "\u001b[2K   \u001b[90m━━━━━━━━━━━━━━━━━━━━━━━━━━━━━━━━━━━━━━━━\u001b[0m \u001b[32m62.7/62.7 kB\u001b[0m \u001b[31m628.9 kB/s\u001b[0m eta \u001b[36m0:00:00\u001b[0m00:01\u001b[0m\n",
      "\u001b[?25hDownloading smmap-5.0.1-py3-none-any.whl (24 kB)\n",
      "Installing collected packages: smmap, setproctitle, sentry-sdk, protobuf, docker-pycreds, gitdb, gitpython, wandb\n",
      "Successfully installed docker-pycreds-0.4.0 gitdb-4.0.11 gitpython-3.1.43 protobuf-5.27.1 sentry-sdk-2.5.1 setproctitle-1.3.3 smmap-5.0.1 wandb-0.17.1\n"
     ]
    }
   ],
   "source": [
    "!pip install wandb\n"
   ]
  },
  {
   "cell_type": "code",
   "execution_count": 2,
   "id": "ec16485c-de3a-4e8b-bfc6-b58425285847",
   "metadata": {},
   "outputs": [
    {
     "name": "stderr",
     "output_type": "stream",
     "text": [
      "\u001b[34m\u001b[1mwandb\u001b[0m: Currently logged in as: \u001b[33mutsavrai\u001b[0m (\u001b[33mgsoc24_utsavrai\u001b[0m). Use \u001b[1m`wandb login --relogin`\u001b[0m to force relogin\n",
      "\u001b[34m\u001b[1mwandb\u001b[0m: \u001b[33mWARNING\u001b[0m If you're specifying your api key in code, ensure this code is not shared publicly.\n",
      "\u001b[34m\u001b[1mwandb\u001b[0m: \u001b[33mWARNING\u001b[0m Consider setting the WANDB_API_KEY environment variable, or running `wandb login` from the command line.\n",
      "\u001b[34m\u001b[1mwandb\u001b[0m: Appending key for api.wandb.ai to your netrc file: /homes/ur23/.netrc\n"
     ]
    },
    {
     "data": {
      "text/html": [
       "wandb version 0.17.3 is available!  To upgrade, please run:\n",
       " $ pip install wandb --upgrade"
      ],
      "text/plain": [
       "<IPython.core.display.HTML object>"
      ]
     },
     "metadata": {},
     "output_type": "display_data"
    },
    {
     "data": {
      "text/html": [
       "Tracking run with wandb version 0.17.1"
      ],
      "text/plain": [
       "<IPython.core.display.HTML object>"
      ]
     },
     "metadata": {},
     "output_type": "display_data"
    },
    {
     "data": {
      "text/html": [
       "Run data is saved locally in <code>/vol/bitbucket/ur23/.cache/wandb/run-20240628_135959-vjzayja8</code>"
      ],
      "text/plain": [
       "<IPython.core.display.HTML object>"
      ]
     },
     "metadata": {},
     "output_type": "display_data"
    },
    {
     "data": {
      "text/html": [
       "Syncing run <strong><a href='https://wandb.ai/gsoc24_utsavrai/trocr-ocr-finetuning/runs/vjzayja8' target=\"_blank\">icy-firebrand-62</a></strong> to <a href='https://wandb.ai/gsoc24_utsavrai/trocr-ocr-finetuning' target=\"_blank\">Weights & Biases</a> (<a href='https://wandb.me/run' target=\"_blank\">docs</a>)<br/>"
      ],
      "text/plain": [
       "<IPython.core.display.HTML object>"
      ]
     },
     "metadata": {},
     "output_type": "display_data"
    },
    {
     "data": {
      "text/html": [
       " View project at <a href='https://wandb.ai/gsoc24_utsavrai/trocr-ocr-finetuning' target=\"_blank\">https://wandb.ai/gsoc24_utsavrai/trocr-ocr-finetuning</a>"
      ],
      "text/plain": [
       "<IPython.core.display.HTML object>"
      ]
     },
     "metadata": {},
     "output_type": "display_data"
    },
    {
     "data": {
      "text/html": [
       " View run at <a href='https://wandb.ai/gsoc24_utsavrai/trocr-ocr-finetuning/runs/vjzayja8' target=\"_blank\">https://wandb.ai/gsoc24_utsavrai/trocr-ocr-finetuning/runs/vjzayja8</a>"
      ],
      "text/plain": [
       "<IPython.core.display.HTML object>"
      ]
     },
     "metadata": {},
     "output_type": "display_data"
    },
    {
     "name": "stderr",
     "output_type": "stream",
     "text": [
      "Some weights of VisionEncoderDecoderModel were not initialized from the model checkpoint at microsoft/trocr-large-handwritten and are newly initialized: ['encoder.pooler.dense.bias', 'encoder.pooler.dense.weight']\n",
      "You should probably TRAIN this model on a down-stream task to be able to use it for predictions and inference.\n"
     ]
    }
   ],
   "source": [
    "import os\n",
    "from PIL import Image\n",
    "import torch\n",
    "from torch.utils.data import Dataset, DataLoader\n",
    "from torch.nn.utils.rnn import pad_sequence\n",
    "from transformers import TrOCRProcessor, VisionEncoderDecoderModel, TrainingArguments, Trainer\n",
    "from torch.utils.data.dataset import random_split\n",
    "import matplotlib.pyplot as plt\n",
    "import Levenshtein as lev\n",
    "from datasets import load_metric\n",
    "from transformers import get_linear_schedule_with_warmup, AdamW\n",
    "import wandb\n",
    "# Login to wandb\n",
    "wandb.login(key=\"Your-wandb-key\")\n",
    "\n",
    "# Initialize wandb project\n",
    "wandb.init(project=\"trocr-ocr-finetuning\")\n",
    "class SpanishDocumentsDataset(Dataset):\n",
    "    def __init__(self, image_dir, text_dir, processor):\n",
    "        self.image_dir = image_dir\n",
    "        self.text_dir = text_dir\n",
    "        self.processor = processor\n",
    "        self.filenames = [f for f in os.listdir(image_dir) if f.endswith('.jpg')]\n",
    "    \n",
    "    def __len__(self):\n",
    "        return len(self.filenames)\n",
    "    \n",
    "    def __getitem__(self, idx):\n",
    "        image_file = self.filenames[idx]\n",
    "        # Derive the corresponding text file name by changing the extension\n",
    "        text_file = image_file.replace('.jpg', '.txt')\n",
    "        \n",
    "        image_path = os.path.join(self.image_dir, image_file)\n",
    "        text_path = os.path.join(self.text_dir, text_file)\n",
    "        \n",
    "        image = Image.open(image_path).convert(\"RGB\")\n",
    "        pixel_values = self.processor(image, return_tensors=\"pt\").pixel_values.squeeze()\n",
    "\n",
    "        with open(text_path, 'r', encoding='utf-8') as file:\n",
    "            text = file.read().strip()\n",
    "        labels = self.processor.tokenizer(text, return_tensors=\"pt\").input_ids.squeeze()\n",
    "        \n",
    "        # Treat padding specially for label calculation, if necessary\n",
    "        labels[labels == self.processor.tokenizer.pad_token_id] = -100\n",
    "        \n",
    "        return {\"pixel_values\": pixel_values, \"labels\": labels}\n",
    "\n",
    "\n",
    "\n",
    "image_dir = '../../data/train/All_line_segments'\n",
    "text_dir = '../../data/train/All_line_texts'\n",
    "\n",
    "def collate_fn(batch):\n",
    "    pixel_values = [item['pixel_values'] for item in batch]\n",
    "    labels = [item['labels'] for item in batch]\n",
    "    \n",
    "    # Padding value for labels should be -100 to ignore tokens during loss calculation\n",
    "    labels = pad_sequence(labels, batch_first=True, padding_value=-100)\n",
    "    pixel_values = torch.stack(pixel_values)\n",
    "    \n",
    "    return {\"pixel_values\": pixel_values, \"labels\": labels}\n",
    "\n",
    "\n",
    "\n",
    "# Initialize processor and model with correct configurations\n",
    "processor = TrOCRProcessor.from_pretrained(\"microsoft/trocr-large-handwritten\")\n",
    "model = VisionEncoderDecoderModel.from_pretrained(\"microsoft/trocr-large-handwritten\")\n",
    "model.config.decoder_start_token_id = processor.tokenizer.bos_token_id\n",
    "model.config.pad_token_id = processor.tokenizer.pad_token_id\n",
    "model.config.eos_token_id = processor.tokenizer.eos_token_id\n",
    "model.config.ignore_pad_token_for_loss = True  # Ensure pad tokens are ignored during loss calculation\n",
    "\n",
    "# Set beam search parameters\n",
    "# model.config.eos_token_id = processor.tokenizer.sep_token_id\n",
    "# model.config.max_length = 64\n",
    "# model.config.early_stopping = True\n",
    "# model.config.no_repeat_ngram_size = 3\n",
    "# model.config.length_penalty = 2.0\n",
    "# model.config.num_beams = 5\n",
    "\n",
    "# Prepare dataset and data loader\n",
    "dataset = SpanishDocumentsDataset(image_dir, text_dir, processor=processor)\n",
    "\n",
    "dataset_size = len(dataset)\n",
    "eval_size = int(dataset_size * 0.1)  # 10% for evaluation\n",
    "train_size = dataset_size - eval_size  # Remaining for training\n",
    "\n",
    "# Split the dataset\n",
    "train_dataset, eval_dataset = random_split(dataset, [train_size, eval_size])\n",
    "\n",
    "train_loader = DataLoader(train_dataset, batch_size=8, shuffle=True, collate_fn=collate_fn)\n",
    "eval_loader = DataLoader(eval_dataset, batch_size=8, collate_fn=collate_fn)\n",
    "\n"
   ]
  },
  {
   "cell_type": "code",
   "execution_count": 3,
   "id": "43bd1da2-83ed-4e30-bd28-a88de507ec2e",
   "metadata": {},
   "outputs": [
    {
     "name": "stdout",
     "output_type": "stream",
     "text": [
      "225\n",
      "torch.Size([8, 3, 384, 384]) torch.Size([8, 16])\n"
     ]
    }
   ],
   "source": [
    "# # To see how the data is loaded, let's fetch a batch from the DataLoader\n",
    "print(len(train_loader))\n",
    "for batch in train_loader:\n",
    "    print(batch['pixel_values'].shape, batch['labels'].shape)\n",
    "    break  # Just show the first batch for demonstration"
   ]
  },
  {
   "cell_type": "code",
   "execution_count": 4,
   "id": "6e2d6b77-daa0-4ab5-8bee-f95c9c027412",
   "metadata": {},
   "outputs": [
    {
     "name": "stderr",
     "output_type": "stream",
     "text": [
      "/tmp/ipykernel_2385233/12763035.py:5: FutureWarning: load_metric is deprecated and will be removed in the next major version of datasets. Use 'evaluate.load' instead, from the new library 🤗 Evaluate: https://huggingface.co/docs/evaluate\n",
      "  cer_metric = load_metric(\"cer\", trust_remote_code=True)\n",
      "/vol/bitbucket/ur23/g/lib/python3.10/site-packages/accelerate/accelerator.py:432: FutureWarning: Passing the following arguments to `Accelerator` is deprecated and will be removed in version 1.0 of Accelerate: dict_keys(['dispatch_batches', 'split_batches', 'even_batches', 'use_seedable_sampler']). Please pass an `accelerate.DataLoaderConfiguration` instead: \n",
      "dataloader_config = DataLoaderConfiguration(dispatch_batches=None, split_batches=False, even_batches=True, use_seedable_sampler=True)\n",
      "  warnings.warn(\n"
     ]
    },
    {
     "data": {
      "text/html": [
       "\n",
       "    <div>\n",
       "      \n",
       "      <progress value='2245' max='2245' style='width:300px; height:20px; vertical-align: middle;'></progress>\n",
       "      [2245/2245 15:14, Epoch 5/5]\n",
       "    </div>\n",
       "    <table border=\"1\" class=\"dataframe\">\n",
       "  <thead>\n",
       " <tr style=\"text-align: left;\">\n",
       "      <th>Step</th>\n",
       "      <th>Training Loss</th>\n",
       "      <th>Validation Loss</th>\n",
       "      <th>Cer</th>\n",
       "      <th>Wer</th>\n",
       "      <th>Bleu</th>\n",
       "    </tr>\n",
       "  </thead>\n",
       "  <tbody>\n",
       "    <tr>\n",
       "      <td>200</td>\n",
       "      <td>0.519700</td>\n",
       "      <td>0.464252</td>\n",
       "      <td>0.072457</td>\n",
       "      <td>0.193469</td>\n",
       "      <td>0.658560</td>\n",
       "    </tr>\n",
       "    <tr>\n",
       "      <td>400</td>\n",
       "      <td>0.441500</td>\n",
       "      <td>0.230811</td>\n",
       "      <td>0.046602</td>\n",
       "      <td>0.124082</td>\n",
       "      <td>0.782082</td>\n",
       "    </tr>\n",
       "    <tr>\n",
       "      <td>600</td>\n",
       "      <td>0.222800</td>\n",
       "      <td>0.185232</td>\n",
       "      <td>0.037003</td>\n",
       "      <td>0.095510</td>\n",
       "      <td>0.819750</td>\n",
       "    </tr>\n",
       "    <tr>\n",
       "      <td>800</td>\n",
       "      <td>0.124800</td>\n",
       "      <td>0.142078</td>\n",
       "      <td>0.021366</td>\n",
       "      <td>0.063673</td>\n",
       "      <td>0.874001</td>\n",
       "    </tr>\n",
       "    <tr>\n",
       "      <td>1000</td>\n",
       "      <td>0.131300</td>\n",
       "      <td>0.130908</td>\n",
       "      <td>0.019972</td>\n",
       "      <td>0.059592</td>\n",
       "      <td>0.875110</td>\n",
       "    </tr>\n",
       "    <tr>\n",
       "      <td>1200</td>\n",
       "      <td>0.079600</td>\n",
       "      <td>0.127243</td>\n",
       "      <td>0.020746</td>\n",
       "      <td>0.057959</td>\n",
       "      <td>0.879230</td>\n",
       "    </tr>\n",
       "    <tr>\n",
       "      <td>1400</td>\n",
       "      <td>0.039200</td>\n",
       "      <td>0.127243</td>\n",
       "      <td>0.020746</td>\n",
       "      <td>0.057959</td>\n",
       "      <td>0.879230</td>\n",
       "    </tr>\n",
       "    <tr>\n",
       "      <td>1600</td>\n",
       "      <td>0.047500</td>\n",
       "      <td>0.127243</td>\n",
       "      <td>0.020746</td>\n",
       "      <td>0.057959</td>\n",
       "      <td>0.879230</td>\n",
       "    </tr>\n",
       "    <tr>\n",
       "      <td>1800</td>\n",
       "      <td>0.060800</td>\n",
       "      <td>0.127243</td>\n",
       "      <td>0.020746</td>\n",
       "      <td>0.057959</td>\n",
       "      <td>0.879230</td>\n",
       "    </tr>\n",
       "    <tr>\n",
       "      <td>2000</td>\n",
       "      <td>0.108800</td>\n",
       "      <td>0.127243</td>\n",
       "      <td>0.020746</td>\n",
       "      <td>0.057959</td>\n",
       "      <td>0.879230</td>\n",
       "    </tr>\n",
       "    <tr>\n",
       "      <td>2200</td>\n",
       "      <td>0.083100</td>\n",
       "      <td>0.127243</td>\n",
       "      <td>0.020746</td>\n",
       "      <td>0.057959</td>\n",
       "      <td>0.879230</td>\n",
       "    </tr>\n",
       "  </tbody>\n",
       "</table><p>"
      ],
      "text/plain": [
       "<IPython.core.display.HTML object>"
      ]
     },
     "metadata": {},
     "output_type": "display_data"
    },
    {
     "data": {
      "text/plain": [
       "TrainOutput(global_step=2245, training_loss=0.3869205862482831, metrics={'train_runtime': 915.2987, 'train_samples_per_second': 9.811, 'train_steps_per_second': 2.453, 'total_flos': 1.206585452107137e+19, 'train_loss': 0.3869205862482831, 'epoch': 5.0})"
      ]
     },
     "execution_count": 4,
     "metadata": {},
     "output_type": "execute_result"
    }
   ],
   "source": [
    "from torch.optim import AdamW\n",
    "from transformers import Seq2SeqTrainer, Seq2SeqTrainingArguments\n",
    "from transformers import EarlyStoppingCallback\n",
    "\n",
    "cer_metric = load_metric(\"cer\", trust_remote_code=True)\n",
    "wer_metric = load_metric(\"wer\", trust_remote_code=True)\n",
    "bleu_metric = load_metric(\"bleu\", trust_remote_code=True)\n",
    "\n",
    "def compute_metrics(eval_pred):\n",
    "    logits, labels = eval_pred\n",
    "    if isinstance(logits, tuple):\n",
    "        logits = logits[0]\n",
    "\n",
    "    predictions = logits.argmax(-1)\n",
    "    decoded_preds = processor.batch_decode(predictions, skip_special_tokens=True)\n",
    "\n",
    "    decoded_labels = []\n",
    "    for label in labels:\n",
    "        label_filtered = [token for token in label if token != -100]\n",
    "        decoded_label = processor.decode(label_filtered, skip_special_tokens=True)\n",
    "        decoded_labels.append(decoded_label)\n",
    "\n",
    "    cer = cer_metric.compute(predictions=decoded_preds, references=decoded_labels)\n",
    "    wer = wer_metric.compute(predictions=decoded_preds, references=decoded_labels)\n",
    "    \n",
    "    tokenized_preds = [pred.split() for pred in decoded_preds]\n",
    "    tokenized_refs = [[ref.split()] for ref in decoded_labels]\n",
    "    \n",
    "    bleu = bleu_metric.compute(predictions=tokenized_preds, references=tokenized_refs)\n",
    "\n",
    "    return {\"cer\": cer, \"wer\": wer, \"bleu\": bleu[\"bleu\"]}\n",
    "\n",
    "model_dir = \"../../models/trocr_finetuned_handwritten\"\n",
    "os.makedirs(model_dir, exist_ok=True)\n",
    "\n",
    "training_args = Seq2SeqTrainingArguments(\n",
    "    output_dir=model_dir,\n",
    "    per_device_train_batch_size=4,\n",
    "    per_device_eval_batch_size=4,\n",
    "    fp16=False,\n",
    "    gradient_accumulation_steps=1,\n",
    "    num_train_epochs=5,\n",
    "    max_grad_norm=1.0,\n",
    "    logging_dir='./logs',\n",
    "    logging_steps=10,\n",
    "    evaluation_strategy=\"steps\",\n",
    "    eval_steps=200,\n",
    "    save_steps=100000,\n",
    "    warmup_steps=500,\n",
    "    weight_decay=0.01,\n",
    "    save_total_limit=1,\n",
    "    load_best_model_at_end=True,\n",
    "    report_to=\"wandb\",\n",
    ")\n",
    "\n",
    "total_train_steps = (len(train_loader) * training_args.num_train_epochs)\n",
    "\n",
    "optimizer = AdamW(model.parameters(), lr=5e-6)\n",
    "scheduler = get_linear_schedule_with_warmup(optimizer, \n",
    "                                            num_warmup_steps=500, \n",
    "                                            num_training_steps=total_train_steps)\n",
    "\n",
    "# Create the EarlyStoppingCallback\n",
    "early_stopping_callback = EarlyStoppingCallback(early_stopping_patience=3, early_stopping_threshold=0.0)\n",
    "\n",
    "# Define the trainer\n",
    "trainer = Seq2SeqTrainer(\n",
    "    model=model,\n",
    "    args=training_args,\n",
    "    train_dataset=train_dataset,\n",
    "    eval_dataset=eval_dataset,\n",
    "    optimizers=(optimizer, scheduler),\n",
    "    data_collator=collate_fn,\n",
    "    tokenizer=processor.image_processor,\n",
    "    compute_metrics=compute_metrics,\n",
    "    callbacks=[early_stopping_callback]  # Add the early stopping callback here\n",
    ")\n",
    "\n",
    "# Train the model\n",
    "trainer.train()"
   ]
  },
  {
   "cell_type": "code",
   "execution_count": 5,
   "id": "2fda75bb",
   "metadata": {},
   "outputs": [
    {
     "name": "stderr",
     "output_type": "stream",
     "text": [
      "Removed shared tensor {'decoder.output_projection.weight'} while saving. This should be OK, but check by verifying that you don't receive any warning while reloading\n"
     ]
    },
    {
     "data": {
      "application/vnd.jupyter.widget-view+json": {
       "model_id": "",
       "version_major": 2,
       "version_minor": 0
      },
      "text/plain": [
       "VBox(children=(Label(value='0.003 MB of 0.003 MB uploaded\\r'), FloatProgress(value=1.0, max=1.0)))"
      ]
     },
     "metadata": {},
     "output_type": "display_data"
    },
    {
     "data": {
      "text/html": [
       "<style>\n",
       "    table.wandb td:nth-child(1) { padding: 0 10px; text-align: left ; width: auto;} td:nth-child(2) {text-align: left ; width: 100%}\n",
       "    .wandb-row { display: flex; flex-direction: row; flex-wrap: wrap; justify-content: flex-start; width: 100% }\n",
       "    .wandb-col { display: flex; flex-direction: column; flex-basis: 100%; flex: 1; padding: 10px; }\n",
       "    </style>\n",
       "<div class=\"wandb-row\"><div class=\"wandb-col\"><h3>Run history:</h3><br/><table class=\"wandb\"><tr><td>eval/bleu</td><td>▁▅▆████████</td></tr><tr><td>eval/cer</td><td>█▅▃▁▁▁▁▁▁▁▁</td></tr><tr><td>eval/loss</td><td>█▃▂▁▁▁▁▁▁▁▁</td></tr><tr><td>eval/runtime</td><td>█▆▂▁█▁▄▁█▁▂</td></tr><tr><td>eval/samples_per_second</td><td>▁▃▆█▁█▅█▁█▇</td></tr><tr><td>eval/steps_per_second</td><td>▁▃▆█▁█▅█▁█▇</td></tr><tr><td>eval/wer</td><td>█▄▃▁▁▁▁▁▁▁▁</td></tr><tr><td>train/epoch</td><td>▁▁▁▂▂▂▂▂▂▃▃▃▃▃▄▄▄▄▄▄▅▅▅▅▅▆▆▆▆▆▆▇▇▇▇▇▇███</td></tr><tr><td>train/global_step</td><td>▁▁▁▂▂▂▂▂▂▃▃▃▃▃▄▄▄▄▄▄▅▅▅▅▅▅▆▆▆▆▆▇▇▇▇▇▇███</td></tr><tr><td>train/grad_norm</td><td>▅█▂▂▂▂▁▂▂▁▂▂▂▁▂▁▁▂▁▁▁▁▁▁▁▁▁▁▁▁▁▁▁▁▁▂▁▁▁▁</td></tr><tr><td>train/learning_rate</td><td>▁▂▃▄▄▅▆▇██▇▇▆▅▅▄▃▃▂▁▁▁▁▁▁▁▁▁▁▁▁▁▁▁▁▁▁▁▁▁</td></tr><tr><td>train/loss</td><td>█▆▃▂▂▁▁▁▁▁▁▁▁▁▁▁▁▁▁▁▁▁▁▁▁▁▁▁▁▁▁▁▁▁▁▁▁▁▁▁</td></tr></table><br/></div><div class=\"wandb-col\"><h3>Run summary:</h3><br/><table class=\"wandb\"><tr><td>eval/bleu</td><td>0.87923</td></tr><tr><td>eval/cer</td><td>0.02075</td></tr><tr><td>eval/loss</td><td>0.12724</td></tr><tr><td>eval/runtime</td><td>6.6153</td></tr><tr><td>eval/samples_per_second</td><td>30.082</td></tr><tr><td>eval/steps_per_second</td><td>7.558</td></tr><tr><td>eval/wer</td><td>0.05796</td></tr><tr><td>total_flos</td><td>1.206585452107137e+19</td></tr><tr><td>train/epoch</td><td>5.0</td></tr><tr><td>train/global_step</td><td>2245</td></tr><tr><td>train/grad_norm</td><td>7.90091</td></tr><tr><td>train/learning_rate</td><td>0.0</td></tr><tr><td>train/loss</td><td>0.1613</td></tr><tr><td>train_loss</td><td>0.38692</td></tr><tr><td>train_runtime</td><td>915.2987</td></tr><tr><td>train_samples_per_second</td><td>9.811</td></tr><tr><td>train_steps_per_second</td><td>2.453</td></tr></table><br/></div></div>"
      ],
      "text/plain": [
       "<IPython.core.display.HTML object>"
      ]
     },
     "metadata": {},
     "output_type": "display_data"
    },
    {
     "data": {
      "text/html": [
       " View run <strong style=\"color:#cdcd00\">icy-firebrand-62</strong> at: <a href='https://wandb.ai/gsoc24_utsavrai/trocr-ocr-finetuning/runs/vjzayja8' target=\"_blank\">https://wandb.ai/gsoc24_utsavrai/trocr-ocr-finetuning/runs/vjzayja8</a><br/> View project at: <a href='https://wandb.ai/gsoc24_utsavrai/trocr-ocr-finetuning' target=\"_blank\">https://wandb.ai/gsoc24_utsavrai/trocr-ocr-finetuning</a><br/>Synced 5 W&B file(s), 0 media file(s), 0 artifact file(s) and 0 other file(s)"
      ],
      "text/plain": [
       "<IPython.core.display.HTML object>"
      ]
     },
     "metadata": {},
     "output_type": "display_data"
    },
    {
     "data": {
      "text/html": [
       "Find logs at: <code>/vol/bitbucket/ur23/.cache/wandb/run-20240628_135959-vjzayja8/logs</code>"
      ],
      "text/plain": [
       "<IPython.core.display.HTML object>"
      ]
     },
     "metadata": {},
     "output_type": "display_data"
    }
   ],
   "source": [
    "# Use the output_dir from training_args for saving the model and processor\n",
    "model_dir = training_args.output_dir\n",
    "os.makedirs(model_dir, exist_ok=True)\n",
    "trainer.save_model(model_dir)\n",
    "processor.save_pretrained(model_dir)\n",
    "\n",
    "\n",
    "# Finish the wandb run\n",
    "wandb.finish()"
   ]
  },
  {
   "cell_type": "code",
   "execution_count": 6,
   "id": "216ee261",
   "metadata": {},
   "outputs": [
    {
     "data": {
      "image/png": "[encoded data removed]",
      "text/plain": [
       "<Figure size 1000x600 with 1 Axes>"
      ]
     },
     "metadata": {},
     "output_type": "display_data"
    },
    {
     "data": {
      "image/png": "[encoded data removed]",
      "text/plain": [
       "<Figure size 1000x600 with 1 Axes>"
      ]
     },
     "metadata": {},
     "output_type": "display_data"
    },
    {
     "data": {
      "image/png": "[encoded data removed]",
      "text/plain": [
       "<Figure size 1000x600 with 1 Axes>"
      ]
     },
     "metadata": {},
     "output_type": "display_data"
    },
    {
     "data": {
      "image/png": "[encoded data removed]",
      "text/plain": [
       "<Figure size 1000x600 with 1 Axes>"
      ]
     },
     "metadata": {},
     "output_type": "display_data"
    }
   ],
   "source": [
    "# Extract logs for plotting\n",
    "train_logs = trainer.state.log_history\n",
    "\n",
    "# Plotting the training and evaluation curves\n",
    "def plot_metrics(logs, metric_name):\n",
    "    train_steps = []\n",
    "    train_values = []\n",
    "    eval_steps = []\n",
    "    eval_values = []\n",
    "\n",
    "    for log in logs:\n",
    "        if 'loss' in log and metric_name == 'loss':\n",
    "            if 'epoch' in log:\n",
    "                train_steps.append(log['epoch'])\n",
    "                train_values.append(log['loss'])\n",
    "        elif f'eval_{metric_name}' in log:\n",
    "            if 'epoch' in log:\n",
    "                eval_steps.append(log['epoch'])\n",
    "                eval_values.append(log[f'eval_{metric_name}'])\n",
    "\n",
    "    plt.figure(figsize=(10, 6))\n",
    "    plt.plot(train_steps, train_values, label=f'Training {metric_name.capitalize()}')\n",
    "    plt.plot(eval_steps, eval_values, label=f'Evaluation {metric_name.capitalize()}')\n",
    "    plt.xlabel('Epochs')\n",
    "    plt.ylabel(metric_name.capitalize())\n",
    "    plt.title(f'Training and Evaluation {metric_name.capitalize()}')\n",
    "    plt.legend()\n",
    "    plt.grid(True)\n",
    "    plt.show()\n",
    "\n",
    "# Plot loss, CER, WER, and BLEU\n",
    "plot_metrics(train_logs, 'loss')\n",
    "plot_metrics(train_logs, 'cer')\n",
    "plot_metrics(train_logs, 'wer')\n",
    "plot_metrics(train_logs, 'bleu')\n"
   ]
  },
  {
   "cell_type": "code",
   "execution_count": 3,
   "id": "cbf0004f-fc7d-4600-83c7-b2dc565cb143",
   "metadata": {},
   "outputs": [
    {
     "name": "stdout",
     "output_type": "stream",
     "text": [
      "cuda\n",
      "Processing 2:\n",
      "  1.jpg: dava al postigo, y que Nicolasa se levanto a la venta\n",
      "  2.jpg: na del aposento a preguntar quien era el que dava\n",
      "  3.jpg: golpes. Ysabel de Rocafal dize, que estava las\n",
      "  4.jpg: en el aposento donde dormian, y que aun no se avia\n",
      "  5.jpg: desnudado, y que baxaton al postigo a hablar con\n",
      "  6.jpg: don Pedro. Preguntoveles tambien, con que llave\n",
      "  7.jpg: estava corrado el postigo al tiempo que le aciquiz\n",
      "  8.jpg: don Pedro, y Nicolasa dize, que estava cerrado con\n",
      "  9.jpg: llave de loba, y que el dicho don Pedro con la daga\n",
      "  10.jpg: o machete quito el escalon del postigo de la parte\n",
      "  11.jpg: de a fuera, y con la daga levanto la puerta hazia\n",
      "  12.jpg: ba, y rompio la cerradura, y que aviendolo\n",
      "  13.jpg: de ver su ama otro dia, le avian dicho, que los\n",
      "  14.jpg: chachos jugando lo avian hecho, y ella lo avia ad\n",
      "  15.jpg: zado, en lo qual contestan todas ttes, y doña Isabel\n",
      "  16.jpg: dize, que dutatia un quarto de ova el tomper el\n",
      "  17.jpg: stigo. Breguntaseles, en que aposento entro el\n",
      "  18.jpg: dona Isabel, y la conocio carnalmente, si entraton\n",
      "  19.jpg: solos, y certaron la puerta, y si entraton los\n",
      "  20.jpg: ellos Nicolasa dize, que el a posento donde el Reo en\n",
      "  21.jpg: tro a doña Isabel, es el a do dormia, y la puerta\n",
      "  22.jpg: do abierra, donde la Nicolasa, y Isabelse quedaron,\n",
      "  23.jpg: y don Pedro echo a doña Isabel sobre la cama, y vie\n",
      "  24.jpg: ron como la conocio carnalmente dos vezes, y que\n",
      "  25.jpg: ella dio vozes, y que se estuvo hasta las tres de\n",
      "  26.jpg: iana El señor don Francisco pone por diligencia, q\n",
      "  27.jpg: es impossible poderse ver sin luz lo que declara.\n",
      "  28.jpg: Isabel de Rocafal dize, que don Pedro entro a do-\n",
      "  29.jpg: ia Isabel en et aposento donde dormia, que es al la-\n",
      "  30.jpg: do del enque dormia su padre, y tieve enttada por la\n",
      "  31.jpg: cozina, y que pot es at el aposento abiento vio\n",
      "  32.jpg: tiene dicho Doña Isabel dize, que el teola entro en\n",
      "  33.jpg: la cozina, do de la echo en el suelo sobre su capa\n",
      "  34.jpg: corrempio, conotiidola dos vezes, y que se fue\n",
      "  35.jpg: anze sin que subiesse al aposento donde esta y sus\n",
      "  36.jpg: adas dormian, y que la criada y la esclava\n",
      "  37.jpg: estavan sentadas en el paso de la cozina. Pregunta-\n",
      "  38.jpg: seles como pudieron ver lo que dizen no tenien do\n",
      "\n",
      "Full text for 2:\n",
      "dava al postigo, y que Nicolasa se levanto a la venta\n",
      "na del aposento a preguntar quien era el que dava\n",
      "golpes. Ysabel de Rocafal dize, que estava las\n",
      "en el aposento donde dormian, y que aun no se avia\n",
      "desnudado, y que baxaton al postigo a hablar con\n",
      "don Pedro. Preguntoveles tambien, con que llave\n",
      "estava corrado el postigo al tiempo que le aciquiz\n",
      "don Pedro, y Nicolasa dize, que estava cerrado con\n",
      "llave de loba, y que el dicho don Pedro con la daga\n",
      "o machete quito el escalon del postigo de la parte\n",
      "de a fuera, y con la daga levanto la puerta hazia\n",
      "ba, y rompio la cerradura, y que aviendolo\n",
      "de ver su ama otro dia, le avian dicho, que los\n",
      "chachos jugando lo avian hecho, y ella lo avia ad\n",
      "zado, en lo qual contestan todas ttes, y doña Isabel\n",
      "dize, que dutatia un quarto de ova el tomper el\n",
      "stigo. Breguntaseles, en que aposento entro el\n",
      "dona Isabel, y la conocio carnalmente, si entraton\n",
      "solos, y certaron la puerta, y si entraton los\n",
      "ellos Nicolasa dize, que el a posento donde el Reo en\n",
      "tro a doña Isabel, es el a do dormia, y la puerta\n",
      "do abierra, donde la Nicolasa, y Isabelse quedaron,\n",
      "y don Pedro echo a doña Isabel sobre la cama, y vie\n",
      "ron como la conocio carnalmente dos vezes, y que\n",
      "ella dio vozes, y que se estuvo hasta las tres de\n",
      "iana El señor don Francisco pone por diligencia, q\n",
      "es impossible poderse ver sin luz lo que declara.\n",
      "Isabel de Rocafal dize, que don Pedro entro a do-\n",
      "ia Isabel en et aposento donde dormia, que es al la-\n",
      "do del enque dormia su padre, y tieve enttada por la\n",
      "cozina, y que pot es at el aposento abiento vio\n",
      "tiene dicho Doña Isabel dize, que el teola entro en\n",
      "la cozina, do de la echo en el suelo sobre su capa\n",
      "corrempio, conotiidola dos vezes, y que se fue\n",
      "anze sin que subiesse al aposento donde esta y sus\n",
      "adas dormian, y que la criada y la esclava\n",
      "estavan sentadas en el paso de la cozina. Pregunta-\n",
      "seles como pudieron ver lo que dizen no tenien do\n",
      "\n",
      "==================================================\n",
      "\n",
      "Processing 220:\n",
      "  1.jpg: stro gusto, considerando bien antes\n",
      "  2.jpg: las circuitancias: porque de no ha-\n",
      "  3.jpg: zerlo assi, suele seguirse aver de ser\n",
      "  4.jpg: uno inconstante cessando, o necio si\n",
      "  5.jpg: prosigue lo que no deviera empe-\n",
      "  6.jpg: car, como dixo Ciceron.\n",
      "  7.jpg: La colera demasiada, es opuesta\n",
      "  8.jpg: al buen govierno, y autoridad, y assi\n",
      "  9.jpg: tomareys el consejo del Eclesiasti-\n",
      "  10.jpg: co, que dize haz tus obras con man-\n",
      "  11.jpg: sedumbre, y ganaras entre los hom-\n",
      "  12.jpg: bres honray amor. Y el mesmo, que\n",
      "  13.jpg: en los poderosos es la ira como el\n",
      "  14.jpg: bramido del Leon (del qual dizen\n",
      "  15.jpg: los naturales) mata a los animales\n",
      "  16.jpg: que le oyen. El remedio que aplico\n",
      "  17.jpg: para esta passion Libio Filosofo al\n",
      "  18.jpg: Emperador Theodosio su dicipulo,\n",
      "  19.jpg: fue, que antes de prorrumpir en pa-\n",
      "  20.jpg: labras con la ira, dixesse entre si las\n",
      "  21.jpg: letras del Alphabeto, y no es me-\n",
      "  22.jpg: nos importante tener un consejero\n",
      "  23.jpg: sabio, que advierta en tales ocasio-\n",
      "  24.jpg: nes, como Meccaas a Octaviano: pe\n",
      "\n",
      "Full text for 220:\n",
      "stro gusto, considerando bien antes\n",
      "las circuitancias: porque de no ha-\n",
      "zerlo assi, suele seguirse aver de ser\n",
      "uno inconstante cessando, o necio si\n",
      "prosigue lo que no deviera empe-\n",
      "car, como dixo Ciceron.\n",
      "La colera demasiada, es opuesta\n",
      "al buen govierno, y autoridad, y assi\n",
      "tomareys el consejo del Eclesiasti-\n",
      "co, que dize haz tus obras con man-\n",
      "sedumbre, y ganaras entre los hom-\n",
      "bres honray amor. Y el mesmo, que\n",
      "en los poderosos es la ira como el\n",
      "bramido del Leon (del qual dizen\n",
      "los naturales) mata a los animales\n",
      "que le oyen. El remedio que aplico\n",
      "para esta passion Libio Filosofo al\n",
      "Emperador Theodosio su dicipulo,\n",
      "fue, que antes de prorrumpir en pa-\n",
      "labras con la ira, dixesse entre si las\n",
      "letras del Alphabeto, y no es me-\n",
      "nos importante tener un consejero\n",
      "sabio, que advierta en tales ocasio-\n",
      "nes, como Meccaas a Octaviano: pe\n",
      "\n",
      "==================================================\n",
      "\n",
      "Processing 251:\n",
      "  1.jpg: Si dancaredes algumas vezes, sea no\n",
      "  2.jpg: dando la mano: que solo para vues\n",
      "  3.jpg: tro marido aveys de reservar.\n",
      "  4.jpg: Afeytes; enrubiar, ni todo lo con-\n",
      "  5.jpg: cerniente a esto no lo useys jamas,\n",
      "  6.jpg: que a mas de no escusarlo algunos\n",
      "  7.jpg: Doctores de pecado, aun en las ca\n",
      "  8.jpg: sadas arguye gran livandad de co-\n",
      "  9.jpg: razon, y anticipa la vejez arrugando\n",
      "  10.jpg: el rostro, y le afea; pues le quita la\n",
      "  11.jpg: limpieza, y natural, que es lo mejor\n",
      "  12.jpg: parecido en una muger, conocien-\n",
      "  13.jpg: dose, y siendo a todo el mundo (y\n",
      "  14.jpg: mas a su marido) abominable lo ar-\n",
      "  15.jpg: tificial. San Ambrosio iguala este vi\n",
      "  16.jpg: cio del afeytarse con los mayores. Y\n",
      "  17.jpg: San Geronymo dize, como podra\n",
      "  18.jpg: mirar a Dios la que se quiere hazer\n",
      "  19.jpg: desconocida del, pintando y desfi-\n",
      "  20.jpg: gurando el rostro que le dio, y ella\n",
      "  21.jpg: falsifica: Adrezad pues el vuestro,\n",
      "  22.jpg: solo con aquel color de la verguen-\n",
      "  23.jpg: ca, a que atribuyo un Filosofo la\n",
      "  24.jpg: mayor hermosura.\n",
      "\n",
      "Full text for 251:\n",
      "Si dancaredes algumas vezes, sea no\n",
      "dando la mano: que solo para vues\n",
      "tro marido aveys de reservar.\n",
      "Afeytes; enrubiar, ni todo lo con-\n",
      "cerniente a esto no lo useys jamas,\n",
      "que a mas de no escusarlo algunos\n",
      "Doctores de pecado, aun en las ca\n",
      "sadas arguye gran livandad de co-\n",
      "razon, y anticipa la vejez arrugando\n",
      "el rostro, y le afea; pues le quita la\n",
      "limpieza, y natural, que es lo mejor\n",
      "parecido en una muger, conocien-\n",
      "dose, y siendo a todo el mundo (y\n",
      "mas a su marido) abominable lo ar-\n",
      "tificial. San Ambrosio iguala este vi\n",
      "cio del afeytarse con los mayores. Y\n",
      "San Geronymo dize, como podra\n",
      "mirar a Dios la que se quiere hazer\n",
      "desconocida del, pintando y desfi-\n",
      "gurando el rostro que le dio, y ella\n",
      "falsifica: Adrezad pues el vuestro,\n",
      "solo con aquel color de la verguen-\n",
      "ca, a que atribuyo un Filosofo la\n",
      "mayor hermosura.\n",
      "\n",
      "==================================================\n",
      "\n"
     ]
    }
   ],
   "source": [
    "import re\n",
    "import os\n",
    "from PIL import Image\n",
    "import torch\n",
    "from transformers import TrOCRProcessor, VisionEncoderDecoderModel\n",
    "\n",
    "device = torch.device(\"cuda\" if torch.cuda.is_available() else \"cpu\")\n",
    "print(device)\n",
    "# model_path = \"../../models/trocr_finetuned_handwritten\"\n",
    "# processor_path = \"../../models/trocr_finetuned_handwritten\"\n",
    "\n",
    "# Load the fine-tuned model and processor\n",
    "# processor = TrOCRProcessor.from_pretrained(processor_path)\n",
    "# model = VisionEncoderDecoderModel.from_pretrained(model_path).to(device)\n",
    "\n",
    "# Function to generate text for a single image segment\n",
    "def generate_text_from_image_segment(image_path):\n",
    "    image = Image.open(image_path).convert(\"RGB\")\n",
    "    pixel_values = processor(images=image, return_tensors=\"pt\").pixel_values.to(device)  # Move pixel_values to the correct device\n",
    "    generated_ids = model.generate(pixel_values)\n",
    "    generated_text = processor.batch_decode(generated_ids, skip_special_tokens=True)[0]\n",
    "    return generated_text\n",
    "\n",
    "# Base directory where the page folders are located\n",
    "base_dir = \"../../data/test\" \n",
    "\n",
    "def sort_key(filename):\n",
    "    \"\"\"\n",
    "    Custom sort function to extract the segment number from the filename\n",
    "    and use it as the key for sorting.\n",
    "    \"\"\"\n",
    "    match = re.search(r\"(\\d+)\\.jpg\", filename)\n",
    "    if match:\n",
    "        return int(match.group(1))\n",
    "    return -1  # Return -1 if the pattern doesn't match\n",
    "\n",
    "# Iterate through each page's folder\n",
    "for page_folder in sorted(os.listdir(base_dir)):\n",
    "    page_path = os.path.join(base_dir, page_folder)\n",
    "    if os.path.isdir(page_path):\n",
    "        print(f\"Processing {page_folder}:\")\n",
    "        page_texts = []\n",
    "\n",
    "        # Sort the line segment images numerically based on the segment number\n",
    "        line_segment_images = sorted([f for f in os.listdir(page_path) if f.endswith('.jpg')], key=sort_key)\n",
    "\n",
    "        # Iterate through each sorted line segment in the page folder\n",
    "        for line_segment_image in line_segment_images:\n",
    "            line_segment_path = os.path.join(page_path, line_segment_image)\n",
    "            line_text = generate_text_from_image_segment(line_segment_path)\n",
    "            page_texts.append((line_segment_image, line_text))\n",
    "        \n",
    "        # Sort the generated texts based on the filenames\n",
    "        page_texts.sort(key=lambda x: sort_key(x[0]))\n",
    "\n",
    "        # Print the texts in sorted order\n",
    "        for line_segment_image, line_text in page_texts:\n",
    "            print(f\"  {line_segment_image}: {line_text}\")\n",
    "\n",
    "        # Compile and display the full page's text\n",
    "        full_page_text = \"\\n\".join([text for _, text in page_texts])\n",
    "        print(f\"\\nFull text for {page_folder}:\")\n",
    "        print(full_page_text)\n",
    "        print(\"\\n\" + \"=\"*50 + \"\\n\")"
   ]
  },
  {
   "cell_type": "code",
   "execution_count": 11,
   "id": "6e6a3c1c-9854-4955-ad13-5ac59581dd21",
   "metadata": {},
   "outputs": [
    {
     "name": "stdout",
     "output_type": "stream",
     "text": [
      "Sat Jun  8 18:42:43 2024       \n",
      "+---------------------------------------------------------------------------------------+\n",
      "| NVIDIA-SMI 535.171.04             Driver Version: 535.171.04   CUDA Version: 12.2     |\n",
      "|-----------------------------------------+----------------------+----------------------+\n",
      "| GPU  Name                 Persistence-M | Bus-Id        Disp.A | Volatile Uncorr. ECC |\n",
      "| Fan  Temp   Perf          Pwr:Usage/Cap |         Memory-Usage | GPU-Util  Compute M. |\n",
      "|                                         |                      |               MIG M. |\n",
      "|=========================================+======================+======================|\n",
      "|   0  NVIDIA GeForce RTX 4080        Off | 00000000:2D:00.0 Off |                  N/A |\n",
      "|  0%   41C    P8              15W / 320W |  14636MiB / 16376MiB |      0%      Default |\n",
      "|                                         |                      |                  N/A |\n",
      "+-----------------------------------------+----------------------+----------------------+\n",
      "                                                                                         \n",
      "+---------------------------------------------------------------------------------------+\n",
      "| Processes:                                                                            |\n",
      "|  GPU   GI   CI        PID   Type   Process name                            GPU Memory |\n",
      "|        ID   ID                                                             Usage      |\n",
      "|=======================================================================================|\n",
      "|    0   N/A  N/A      4438      G   /usr/lib/xorg/Xorg                           79MiB |\n",
      "|    0   N/A  N/A   1066273      C   /vol/bitbucket/ur23/g/bin/python          14546MiB |\n",
      "+---------------------------------------------------------------------------------------+\n"
     ]
    },
    {
     "name": "stderr",
     "output_type": "stream",
     "text": [
      "huggingface/tokenizers: The current process just got forked, after parallelism has already been used. Disabling parallelism to avoid deadlocks...\n",
      "To disable this warning, you can either:\n",
      "\t- Avoid using `tokenizers` before the fork if possible\n",
      "\t- Explicitly set the environment variable TOKENIZERS_PARALLELISM=(true | false)\n"
     ]
    }
   ],
   "source": [
    "!nvidia-smi"
   ]
  },
  {
   "cell_type": "code",
   "execution_count": null,
   "id": "4c4a06df",
   "metadata": {},
   "outputs": [],
   "source": []
  }
 ],
 "metadata": {
  "kernelspec": {
   "display_name": "Python 3 (ipykernel)",
   "language": "python",
   "name": "python3"
  },
  "language_info": {
   "codemirror_mode": {
    "name": "ipython",
    "version": 3
   },
   "file_extension": ".py",
   "mimetype": "text/x-python",
   "name": "python",
   "nbconvert_exporter": "python",
   "pygments_lexer": "ipython3",
   "version": "3.10.12"
  }
 },
 "nbformat": 4,
 "nbformat_minor": 5
}
